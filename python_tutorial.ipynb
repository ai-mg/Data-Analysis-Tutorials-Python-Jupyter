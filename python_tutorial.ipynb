{
 "cells": [
  {
   "cell_type": "markdown",
   "metadata": {},
   "source": [
    "# Introduction to Python for Data Analysis\n",
    "\n",
    "## Introduction\n",
    "\n",
    "Welcome to the Python Basics Notebook! This notebook is designed for students enrolled in the Data Analysis course. It will guide you through fundamental Python concepts and give you hands-on experience, which will form a solid foundation for your journey into data analysis.\n",
    "\n",
    "### Learning Objectives\n",
    "- Understand basic Python syntax.\n",
    "- Learn fundamental data structures: lists, tuples, sets, and dictionaries.\n",
    "- Practice control flow statements such as conditionals and loops.\n",
    "- Get an introduction to functions, classes, and modules.\n",
    "- Gain hands-on experience with NumPy and Matplotlib for data analysis."
   ]
  },
  {
   "cell_type": "markdown",
   "metadata": {},
   "source": [
    "## 1. Basic Python Syntax\n",
    "\n",
    "### Print Statement\n",
    "The `print()` function is used to output information."
   ]
  },
  {
   "cell_type": "code",
   "execution_count": null,
   "metadata": {},
   "outputs": [],
   "source": [
    "# Example\n",
    "print(\"Hello, Python for Data Analysis!\")"
   ]
  },
  {
   "cell_type": "markdown",
   "metadata": {},
   "source": [
    "### Variables\n",
    "Variables are used to store data values. Python is dynamically typed, meaning you do not have to declare the type explicitly."
   ]
  },
  {
   "cell_type": "code",
   "execution_count": null,
   "metadata": {},
   "outputs": [],
   "source": [
    "# Assigning variables\n",
    "course_name = \"Data Analysis\"\n",
    "year = 2024\n",
    "print(course_name, year)"
   ]
  },
  {
   "cell_type": "markdown",
   "metadata": {},
   "source": [
    "## 2. Basic Data Types and Arithmetic Operations\n",
    "\n",
    "### Data Types\n",
    "- `int` - Integer numbers\n",
    "- `float` - Decimal numbers\n",
    "- `str` - String of characters\n",
    "- `bool` - Boolean value (`True` or `False`)"
   ]
  },
  {
   "cell_type": "code",
   "execution_count": null,
   "metadata": {},
   "outputs": [],
   "source": [
    "# Example\n",
    "x = 10       # int\n",
    "y = 3.14     # float\n",
    "name = \"Alice\" # str\n",
    "is_student = True  # bool"
   ]
  },
  {
   "cell_type": "markdown",
   "metadata": {},
   "source": [
    "### Arithmetic Operations\n",
    "Python can handle basic arithmetic operations such as addition, subtraction, multiplication, and division."
   ]
  },
  {
   "cell_type": "code",
   "execution_count": null,
   "metadata": {},
   "outputs": [],
   "source": [
    "# Arithmetic examples\n",
    "a = 15\n",
    "b = 4\n",
    "\n",
    "addition = a + b\n",
    "subtraction = a - b\n",
    "multiplication = a * b\n",
    "division = a / b  # division returns a float\n",
    "floor_division = a // b  # integer division\n",
    "remainder = a % b  # modulus\n",
    "exponent = a ** b  # a raised to the power of b\n",
    "\n",
    "print(\"Addition:\", addition)\n",
    "print(\"Floor Division:\", floor_division)"
   ]
  },
  {
   "cell_type": "markdown",
   "metadata": {},
   "source": [
    "## 3. Data Structures\n",
    "\n",
    "### Lists\n",
    "Lists are ordered, mutable collections of items."
   ]
  },
  {
   "cell_type": "code",
   "execution_count": null,
   "metadata": {},
   "outputs": [],
   "source": [
    "# Creating a list\n",
    "data_points = [10, 20, 30, 40]\n",
    "print(\"Data Points:\", data_points)\n",
    "\n",
    "# Accessing list elements\n",
    "print(\"First element:\", data_points[0])\n",
    "print(\"Last element:\", data_points[-1])\n",
    "print(\"Elements from index 1 to 3:\", data_points[1:4])\n",
    "\n",
    "# Modifying a list\n",
    "data_points.append(50)\n",
    "print(\"Updated List:\", data_points)"
   ]
  },
  {
   "cell_type": "markdown",
   "metadata": {},
   "source": [
    "### Tuples\n",
    "Tuples are ordered and immutable collections of items."
   ]
  },
  {
   "cell_type": "code",
   "execution_count": null,
   "metadata": {},
   "outputs": [],
   "source": [
    "# Creating a tuple\n",
    "coordinates = (10, 20)\n",
    "print(\"Coordinates:\", coordinates)"
   ]
  },
  {
   "cell_type": "markdown",
   "metadata": {},
   "source": [
    "### Sets\n",
    "Sets are unordered collections with no duplicate elements."
   ]
  },
  {
   "cell_type": "code",
   "execution_count": null,
   "metadata": {},
   "outputs": [],
   "source": [
    "# Creating a set\n",
    "unique_numbers = {1, 2, 3, 4}\n",
    "print(\"Unique Numbers:\", unique_numbers)"
   ]
  },
  {
   "cell_type": "markdown",
   "metadata": {},
   "source": [
    "### Dictionaries\n",
    "Dictionaries store key-value pairs."
   ]
  },
  {
   "cell_type": "code",
   "execution_count": null,
   "metadata": {},
   "outputs": [],
   "source": [
    "# Creating a dictionary\n",
    "student = {\n",
    "    \"name\": \"Alice\",\n",
    "    \"age\": 21,\n",
    "    \"course\": \"Data Analysis\"\n",
    "}\n",
    "print(\"Student Information:\", student)\n",
    "print(\"Student Name:\", student[\"name\"])"
   ]
  },
  {
   "cell_type": "markdown",
   "metadata": {},
   "source": [
    "## 4. Control Flow\n",
    "\n",
    "### Conditional Statements\n",
    "Conditional statements allow you to execute code based on conditions."
   ]
  },
  {
   "cell_type": "code",
   "execution_count": null,
   "metadata": {},
   "outputs": [],
   "source": [
    "# Example\n",
    "score = 85\n",
    "if score >= 90:\n",
    "    print(\"Grade: A\")\n",
    "elif score >= 75:\n",
    "    print(\"Grade: B\")\n",
    "else:\n",
    "    print(\"Grade: C\")"
   ]
  },
  {
   "cell_type": "markdown",
   "metadata": {},
   "source": [
    "### Loops\n",
    "Loops are used to iterate over a sequence of items."
   ]
  },
  {
   "cell_type": "code",
   "execution_count": null,
   "metadata": {},
   "outputs": [],
   "source": [
    "# Example: Iterating through a list\n",
    "for item in data_points:\n",
    "    print(\"Data Point:\", item)"
   ]
  },
  {
   "cell_type": "code",
   "execution_count": null,
   "metadata": {},
   "outputs": [],
   "source": [
    "# Example: Using a while loop\n",
    "counter = 0\n",
    "while counter < 3:\n",
    "    print(\"Counter:\", counter)\n",
    "    counter += 1"
   ]
  },
  {
   "cell_type": "markdown",
   "metadata": {},
   "source": [
    "## 5. Functions\n",
    "Functions are reusable pieces of code that perform a specific task."
   ]
  },
  {
   "cell_type": "code",
   "execution_count": null,
   "metadata": {},
   "outputs": [],
   "source": [
    "# Defining a function\n",
    "def greet(name):\n",
    "    return f\"Hello, {name}!\"\n",
    "\n",
    "# Calling a function\n",
    "greeting = greet(\"Alice\")\n",
    "print(greeting)"
   ]
  },
  {
   "cell_type": "markdown",
   "metadata": {},
   "source": [
    "## 6. Classes and Object-Oriented Programming\n",
    "Classes allow you to create your own data types and define their behavior. They help organize code, combine related functions, and make it reusable, saving time and improving efficiency. You can think of a class as a blueprint for creating objects that have specific attributes and methods."
   ]
  },
  {
   "cell_type": "code",
   "execution_count": null,
   "metadata": {},
   "outputs": [],
   "source": [
    "class Student:\n",
    "    def __init__(self, name, age):\n",
    "        # The __init__ method is called when a new object is created from the class.\n",
    "        # It initializes the object's attributes with the given values.\n",
    "        self.name = name  # Attribute to store the student's name\n",
    "        self.age = age    # Attribute to store the student's age\n",
    "\n",
    "    def introduce(self):\n",
    "        # Method to introduce the student\n",
    "        return f\"Hi, I'm {self.name} and I'm {self.age} years old.\"\n",
    "\n",
    "# Creating an instance of the Student class\n",
    "student1 = Student(\"Alice\", 21)\n",
    "print(student1.introduce())"
   ]
  },
  {
   "cell_type": "markdown",
   "metadata": {},
   "source": [
    "### Key Concepts in Classes\n",
    "- **Attributes**: These are variables that belong to the class. In the example above, `name` and `age` are attributes of the `Student` class. Attributes store information about the object.\n",
    "- **Methods**: These are functions that belong to the class. The `introduce()` method is an example of a method that performs an action using the object's attributes.\n",
    "- **Constructor (`__init__`)**: This is a special method that is called when you create an instance of the class. It is used to initialize the object's attributes. In our example, `__init__` sets the `name` and `age` of the student.\n",
    "- **Object Creation**: An instance of a class (an object) is created by calling the class like a function, e.g., `student1 = Student(\"Alice\", 21)`. Each object has its own copy of the attributes.\n",
    "- **Object**: An object is an instance of a class. It represents a specific entity with the attributes and behaviors defined by its class. In the example above, `student1` is an object of the `Student` class. It has its own `name` and `age` values and can use the `introduce()` method defined in the class."
   ]
  },
  {
   "cell_type": "markdown",
   "metadata": {},
   "source": [
    "## 7. Importing Libraries\n",
    "Python has a rich ecosystem of libraries, which makes it ideal for data analysis.\n",
    "\n",
    "### NumPy for Arrays\n",
    "NumPy is a powerful library for numerical computations."
   ]
  },
  {
   "cell_type": "code",
   "execution_count": null,
   "metadata": {},
   "outputs": [],
   "source": [
    "import numpy as np\n",
    "\n",
    "# Creating an array using np.arange()\n",
    "numpy_array = np.arange(1, 6)\n",
    "print(\"NumPy Array:\", numpy_array)\n",
    "\n",
    "# Array operations\n",
    "array_sum = np.sum(numpy_array)\n",
    "print(\"Sum of Array Elements:\", array_sum)\n",
    "\n",
    "# Additional Array Operations\n",
    "array_mean = np.mean(numpy_array)\n",
    "print(\"Mean of Array Elements:\", array_mean)\n",
    "\n",
    "array_std = np.std(numpy_array)\n",
    "print(\"Standard Deviation of Array Elements:\", array_std)\n",
    "\n",
    "array_max = np.max(numpy_array)\n",
    "print(\"Maximum Element in Array:\", array_max)\n",
    "\n",
    "array_min = np.min(numpy_array)\n",
    "print(\"Minimum Element in Array:\", array_min)\n",
    "\n",
    "array_squared = np.square(numpy_array)\n",
    "print(\"Squared Elements of Array:\", array_squared)"
   ]
  },
  {
   "cell_type": "markdown",
   "metadata": {},
   "source": [
    "### Matplotlib for Visualization\n",
    "Matplotlib is used for creating visualizations such as line charts and bar charts."
   ]
  },
  {
   "cell_type": "code",
   "execution_count": null,
   "metadata": {},
   "outputs": [],
   "source": [
    "import matplotlib.pyplot as plt\n",
    "\n",
    "# Example: Plotting a Line Chart\n",
    "years = [2019, 2020, 2021, 2022]\n",
    "sales = [250, 300, 350, 400]\n",
    "\n",
    "plt.plot(years, sales, marker='o')\n",
    "plt.xlabel('Year')\n",
    "plt.ylabel('Sales')\n",
    "plt.title('Yearly Sales Data')\n",
    "plt.show()"
   ]
  },
  {
   "cell_type": "code",
   "execution_count": null,
   "metadata": {},
   "outputs": [],
   "source": [
    "# Example: Plotting a Bar Chart\n",
    "courses = ['Math', 'Physics', 'Chemistry', 'Biology']\n",
    "students = [50, 40, 60, 30]\n",
    "\n",
    "plt.bar(courses, students, color='skyblue')\n",
    "plt.xlabel('Courses')\n",
    "plt.ylabel('Number of Students')\n",
    "plt.title('Students Enrolled in Different Courses')\n",
    "plt.show()"
   ]
  },
  {
   "cell_type": "code",
   "execution_count": null,
   "metadata": {},
   "outputs": [],
   "source": [
    "# Example: Plotting a Scatter Plot\n",
    "study_hours = [1, 2, 3, 4, 5]\n",
    "scores = [50, 60, 70, 80, 90]\n",
    "\n",
    "plt.scatter(study_hours, scores, color='red')\n",
    "plt.xlabel('Study Hours')\n",
    "plt.ylabel('Scores')\n",
    "plt.title('Study Hours vs Scores')\n",
    "plt.show()"
   ]
  },
  {
   "cell_type": "code",
   "execution_count": null,
   "metadata": {},
   "outputs": [],
   "source": [
    "# Example: Plotting Multiple Lines\n",
    "years = [2019, 2020, 2021, 2022]\n",
    "sales_A = [200, 250, 300, 350]\n",
    "sales_B = [150, 200, 250, 300]\n",
    "\n",
    "plt.plot(years, sales_A, marker='o', label='Product A')\n",
    "plt.plot(years, sales_B, marker='s', label='Product B')\n",
    "plt.xlabel('Year')\n",
    "plt.ylabel('Sales')\n",
    "plt.title('Sales Data for Products A and B')\n",
    "plt.legend()\n",
    "plt.show()"
   ]
  },
  {
   "cell_type": "markdown",
   "metadata": {},
   "source": [
    "## 8. Practice Exercises\n",
    "\n",
    "### NumPy Practice\n",
    "1. Create a NumPy array of numbers from 1 to 10 and calculate the mean of the array.\n",
    "2. Create a 3x3 matrix and perform matrix multiplication with another 3x3 matrix.\n",
    "3. Create an array of random numbers and calculate the variance and standard deviation.\n",
    "4. Create an array and find the indices of elements greater than a specific value."
   ]
  },
  {
   "cell_type": "code",
   "execution_count": null,
   "metadata": {},
   "outputs": [],
   "source": [
    "# Exercise solutions can be written here\n",
    "# Exercise 1\n",
    "array_1_10 = np.arange(1, 11)\n",
    "mean_value = np.mean(array_1_10)\n",
    "print(\"Mean of array 1-10:\", mean_value)"
   ]
  },
  {
   "cell_type": "markdown",
   "metadata": {},
   "source": [
    "### Matplotlib Practice\n",
    "1. Plot a bar chart showing the number of students enrolled in different courses.\n",
    "2. Create a scatter plot showing the relationship between study hours and scores for a group of students.\n",
    "3. Plot a line chart showing the monthly revenue of a company over a year.\n",
    "4. Create a pie chart showing the market share of different companies."
   ]
  },
  {
   "cell_type": "code",
   "execution_count": null,
   "metadata": {},
   "outputs": [],
   "source": [
    "# Exercise solutions can be written here\n",
    "# Students can practice creating their own visualizations"
   ]
  },
  {
   "cell_type": "markdown",
   "metadata": {},
   "source": [
    "## Conclusion\n",
    "\n",
    "In this notebook, you have learned the basics of Python programming, including syntax, data structures, control flow, functions, classes, and libraries like NumPy and Matplotlib. Understanding these concepts is essential for more advanced topics in data analysis, where you'll work with larger datasets, apply statistical methods, and create powerful visualizations to extract insights from data."
   ]
  }
 ],
 "metadata": {
  "kernelspec": {
   "display_name": "Python 3 (ipykernel)",
   "language": "python",
   "name": "python3"
  },
  "language_info": {
   "codemirror_mode": {
    "name": "ipython",
    "version": 3
   },
   "file_extension": ".py",
   "mimetype": "text/x-python",
   "name": "python",
   "nbconvert_exporter": "python",
   "pygments_lexer": "ipython3",
   "version": "3.11.5"
  }
 },
 "nbformat": 4,
 "nbformat_minor": 4
}
